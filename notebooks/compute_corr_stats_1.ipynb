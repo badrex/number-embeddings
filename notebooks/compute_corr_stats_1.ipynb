{
 "cells": [
  {
   "cell_type": "code",
   "execution_count": 1,
   "id": "9121c113",
   "metadata": {
    "execution": {
     "iopub.execute_input": "2024-08-01T14:02:23.256502Z",
     "iopub.status.busy": "2024-08-01T14:02:23.256019Z",
     "iopub.status.idle": "2024-08-01T14:02:25.752308Z",
     "shell.execute_reply": "2024-08-01T14:02:25.750002Z"
    },
    "papermill": {
     "duration": 2.51069,
     "end_time": "2024-08-01T14:02:25.756970",
     "exception": false,
     "start_time": "2024-08-01T14:02:23.246280",
     "status": "completed"
    },
    "tags": []
   },
   "outputs": [],
   "source": [
    "import numpy as np\n",
    "import pandas as pd\n",
    "import matplotlib.pyplot as plt\n",
    "import seaborn as sns\n",
    "from collections import defaultdict, Counter"
   ]
  },
  {
   "cell_type": "code",
   "execution_count": 2,
   "id": "43f352d9",
   "metadata": {
    "execution": {
     "iopub.execute_input": "2024-08-01T14:02:25.793980Z",
     "iopub.status.busy": "2024-08-01T14:02:25.792851Z",
     "iopub.status.idle": "2024-08-01T14:02:25.805428Z",
     "shell.execute_reply": "2024-08-01T14:02:25.803041Z"
    },
    "papermill": {
     "duration": 0.03579,
     "end_time": "2024-08-01T14:02:25.809877",
     "exception": false,
     "start_time": "2024-08-01T14:02:25.774087",
     "status": "completed"
    },
    "tags": []
   },
   "outputs": [],
   "source": [
    "from typing import List, Dict, Any, Tuple"
   ]
  },
  {
   "cell_type": "code",
   "execution_count": 3,
   "id": "254fe19a",
   "metadata": {
    "execution": {
     "iopub.execute_input": "2024-08-01T14:02:25.829782Z",
     "iopub.status.busy": "2024-08-01T14:02:25.828764Z",
     "iopub.status.idle": "2024-08-01T14:02:25.853679Z",
     "shell.execute_reply": "2024-08-01T14:02:25.851013Z"
    },
    "papermill": {
     "duration": 0.03877,
     "end_time": "2024-08-01T14:02:25.856925",
     "exception": false,
     "start_time": "2024-08-01T14:02:25.818155",
     "status": "completed"
    },
    "tags": []
   },
   "outputs": [],
   "source": [
    "from tqdm.notebook import tqdm, trange"
   ]
  },
  {
   "cell_type": "code",
   "execution_count": 4,
   "id": "b3cf764d",
   "metadata": {
    "execution": {
     "iopub.execute_input": "2024-08-01T14:02:25.878177Z",
     "iopub.status.busy": "2024-08-01T14:02:25.876619Z",
     "iopub.status.idle": "2024-08-01T14:02:25.885888Z",
     "shell.execute_reply": "2024-08-01T14:02:25.883709Z"
    },
    "papermill": {
     "duration": 0.025217,
     "end_time": "2024-08-01T14:02:25.889774",
     "exception": false,
     "start_time": "2024-08-01T14:02:25.864557",
     "status": "completed"
    },
    "tags": []
   },
   "outputs": [],
   "source": [
    "from scipy import stats"
   ]
  },
  {
   "cell_type": "code",
   "execution_count": 5,
   "id": "79b33c48",
   "metadata": {
    "execution": {
     "iopub.execute_input": "2024-08-01T14:02:25.911462Z",
     "iopub.status.busy": "2024-08-01T14:02:25.909762Z",
     "iopub.status.idle": "2024-08-01T14:02:31.560414Z",
     "shell.execute_reply": "2024-08-01T14:02:31.559169Z"
    },
    "papermill": {
     "duration": 5.664658,
     "end_time": "2024-08-01T14:02:31.562916",
     "exception": false,
     "start_time": "2024-08-01T14:02:25.898258",
     "status": "completed"
    },
    "tags": []
   },
   "outputs": [
    {
     "name": "stderr",
     "output_type": "stream",
     "text": [
      "/home/badr/embeddings/lib/python3.11/site-packages/sentence_transformers/cross_encoder/CrossEncoder.py:11: TqdmExperimentalWarning: Using `tqdm.autonotebook.tqdm` in notebook mode. Use `tqdm.tqdm` instead to force console mode (e.g. in jupyter console)\n",
      "  from tqdm.autonotebook import tqdm, trange\n"
     ]
    }
   ],
   "source": [
    "import faiss \n",
    "\n",
    "from sentence_transformers import SentenceTransformer\n",
    "#from sentence_transformers.quantization import quantize_embeddings"
   ]
  },
  {
   "cell_type": "code",
   "execution_count": 6,
   "id": "22674870",
   "metadata": {
    "execution": {
     "iopub.execute_input": "2024-08-01T14:02:31.608250Z",
     "iopub.status.busy": "2024-08-01T14:02:31.607304Z",
     "iopub.status.idle": "2024-08-01T14:02:31.614048Z",
     "shell.execute_reply": "2024-08-01T14:02:31.612767Z"
    },
    "papermill": {
     "duration": 0.050254,
     "end_time": "2024-08-01T14:02:31.616928",
     "exception": false,
     "start_time": "2024-08-01T14:02:31.566674",
     "status": "completed"
    },
    "tags": [
     "parameters"
    ]
   },
   "outputs": [],
   "source": [
    "#model_id = \"sentence-transformers/all-MiniLM-L6-v2\""
   ]
  },
  {
   "cell_type": "code",
   "execution_count": 7,
   "id": "5ff21ddc",
   "metadata": {
    "execution": {
     "iopub.execute_input": "2024-08-01T14:02:31.638242Z",
     "iopub.status.busy": "2024-08-01T14:02:31.637697Z",
     "iopub.status.idle": "2024-08-01T14:02:31.643692Z",
     "shell.execute_reply": "2024-08-01T14:02:31.642402Z"
    },
    "papermill": {
     "duration": 0.016439,
     "end_time": "2024-08-01T14:02:31.646349",
     "exception": false,
     "start_time": "2024-08-01T14:02:31.629910",
     "status": "completed"
    },
    "tags": [
     "injected-parameters"
    ]
   },
   "outputs": [],
   "source": [
    "# Parameters\n",
    "model_id = \"mixedbread-ai/mxbai-embed-large-v1\"\n"
   ]
  },
  {
   "cell_type": "code",
   "execution_count": 14,
   "id": "a2a1a629",
   "metadata": {
    "execution": {
     "iopub.execute_input": "2024-08-01T14:02:31.658739Z",
     "iopub.status.busy": "2024-08-01T14:02:31.658285Z",
     "iopub.status.idle": "2024-08-01T14:02:34.261795Z",
     "shell.execute_reply": "2024-08-01T14:02:34.260694Z"
    },
    "papermill": {
     "duration": 2.612852,
     "end_time": "2024-08-01T14:02:34.264728",
     "exception": false,
     "start_time": "2024-08-01T14:02:31.651876",
     "status": "completed"
    },
    "tags": []
   },
   "outputs": [],
   "source": [
    "# load an embedding model\n",
    "model = SentenceTransformer(model_id, trust_remote_code=True)"
   ]
  },
  {
   "cell_type": "code",
   "execution_count": 15,
   "id": "34ef59b3",
   "metadata": {
    "execution": {
     "iopub.execute_input": "2024-08-01T14:02:34.277112Z",
     "iopub.status.busy": "2024-08-01T14:02:34.276201Z",
     "iopub.status.idle": "2024-08-01T14:02:34.284335Z",
     "shell.execute_reply": "2024-08-01T14:02:34.283021Z"
    },
    "papermill": {
     "duration": 0.017316,
     "end_time": "2024-08-01T14:02:34.287068",
     "exception": false,
     "start_time": "2024-08-01T14:02:34.269752",
     "status": "completed"
    },
    "tags": []
   },
   "outputs": [],
   "source": [
    "def generate_single_test_case(num: int,\n",
    "                              step: int = 1) -> Tuple[int, int, List[int]]:\n",
    "    \"\"\"\n",
    "    Given a query number (int) and step size (int), generate a test case.\n",
    "    Return the query number (int), step size (int), \n",
    "    and a candidate list of integers (list).\n",
    "    \"\"\"\n",
    "    # make sure the step size is positive\n",
    "    assert step > 0, f\"step={step} is not valid!  Step size must be positive.\"\n",
    "    \n",
    "    start = num + step\n",
    "    end = num + (11 * step)\n",
    "    return (num, step, list(range(start, end, step)))"
   ]
  },
  {
   "cell_type": "code",
   "execution_count": 16,
   "id": "e03a727e",
   "metadata": {
    "execution": {
     "iopub.execute_input": "2024-08-01T14:02:34.298255Z",
     "iopub.status.busy": "2024-08-01T14:02:34.297619Z",
     "iopub.status.idle": "2024-08-01T14:02:34.308313Z",
     "shell.execute_reply": "2024-08-01T14:02:34.307383Z"
    },
    "papermill": {
     "duration": 0.018537,
     "end_time": "2024-08-01T14:02:34.310236",
     "exception": false,
     "start_time": "2024-08-01T14:02:34.291699",
     "status": "completed"
    },
    "tags": []
   },
   "outputs": [
    {
     "data": {
      "text/plain": [
       "(10, 2, [12, 14, 16, 18, 20, 22, 24, 26, 28, 30])"
      ]
     },
     "execution_count": 16,
     "metadata": {},
     "output_type": "execute_result"
    }
   ],
   "source": [
    "generate_single_test_case(10, 2)"
   ]
  },
  {
   "cell_type": "code",
   "execution_count": 17,
   "id": "625152a7",
   "metadata": {
    "execution": {
     "iopub.execute_input": "2024-08-01T14:02:34.321456Z",
     "iopub.status.busy": "2024-08-01T14:02:34.321063Z",
     "iopub.status.idle": "2024-08-01T14:02:34.330176Z",
     "shell.execute_reply": "2024-08-01T14:02:34.329433Z"
    },
    "papermill": {
     "duration": 0.01724,
     "end_time": "2024-08-01T14:02:34.332062",
     "exception": false,
     "start_time": "2024-08-01T14:02:34.314822",
     "status": "completed"
    },
    "tags": []
   },
   "outputs": [],
   "source": [
    "# Test case 1\n",
    "num = 5\n",
    "step = 2\n",
    "expected_result = (5, 2, [7, 9, 11, 13, 15, 17, 19, 21, 23, 25])\n",
    "assert generate_single_test_case(num, step) == expected_result\n",
    "\n",
    "# Test case 2\n",
    "num = 10\n",
    "step = 3\n",
    "expected_result = (10, 3, [13, 16, 19, 22, 25, 28, 31, 34, 37, 40])\n",
    "assert generate_single_test_case(num, step) == expected_result\n",
    "\n",
    "# Test case 3\n",
    "num = 0\n",
    "step = 5\n",
    "expected_result = (0, 5, [5, 10, 15, 20, 25, 30, 35, 40, 45, 50])\n",
    "assert generate_single_test_case(num, step) == expected_result\n",
    "\n",
    "# Test case 4\n",
    "num = -3\n",
    "step = 1\n",
    "expected_result = (-3, 1, [-2, -1, 0, 1, 2, 3, 4, 5, 6, 7])\n",
    "assert generate_single_test_case(num, step) == expected_result\n",
    "\n",
    "# Test case 5\n",
    "num = 1000\n",
    "step = 25\n",
    "expected_result = (1000, 25, [1025, 1050, 1075, 1100, 1125, 1150, 1175, 1200, 1225, 1250])\n",
    "assert generate_single_test_case(num, step) == expected_result"
   ]
  },
  {
   "cell_type": "code",
   "execution_count": 18,
   "id": "346aca4b",
   "metadata": {
    "execution": {
     "iopub.execute_input": "2024-08-01T14:02:34.343411Z",
     "iopub.status.busy": "2024-08-01T14:02:34.342845Z",
     "iopub.status.idle": "2024-08-01T14:02:34.350662Z",
     "shell.execute_reply": "2024-08-01T14:02:34.349255Z"
    },
    "papermill": {
     "duration": 0.016976,
     "end_time": "2024-08-01T14:02:34.353279",
     "exception": false,
     "start_time": "2024-08-01T14:02:34.336303",
     "status": "completed"
    },
    "tags": []
   },
   "outputs": [],
   "source": [
    "def generate_test_cases(min_num: int, \n",
    "                        max_num: int,\n",
    "                        min_step: int,\n",
    "                        max_step: int,\n",
    "                        num_cases: int) -> List[Tuple[int, List[int]]]:\n",
    "    \"\"\"\n",
    "    Generate test cases for the given parameters.\n",
    "    Return a list of test cases.\n",
    "    \"\"\"\n",
    "    # make sure the input parameters are valid\n",
    "    assert min_num < max_num, f\"min_num={min_num} must be less than max_num={max_num}\"\n",
    "    assert min_step < max_step, f\"min_step={min_step} must be less than max_step={max_step}\"\n",
    "    assert num_cases > 0, f\"num_cases={num_cases} must be a positive integer.\"\n",
    "\n",
    "    return [\n",
    "        generate_single_test_case(num, step) \n",
    "        for num, step in zip(\n",
    "            np.random.randint(min_num, max_num +1, num_cases),\n",
    "            np.random.randint(min_step, max_step + 1, num_cases)\n",
    "        )\n",
    "    ]"
   ]
  },
  {
   "cell_type": "code",
   "execution_count": 19,
   "id": "4fc572a3",
   "metadata": {
    "execution": {
     "iopub.execute_input": "2024-08-01T14:02:34.364762Z",
     "iopub.status.busy": "2024-08-01T14:02:34.364341Z",
     "iopub.status.idle": "2024-08-01T14:02:34.382401Z",
     "shell.execute_reply": "2024-08-01T14:02:34.381379Z"
    },
    "papermill": {
     "duration": 0.026034,
     "end_time": "2024-08-01T14:02:34.384113",
     "exception": false,
     "start_time": "2024-08-01T14:02:34.358079",
     "status": "completed"
    },
    "tags": []
   },
   "outputs": [],
   "source": [
    "# genetate 10k test cases\n",
    "test_cases = generate_test_cases(min_num=1,\n",
    "                                 max_num=100,\n",
    "                                 min_step=1,\n",
    "                                 max_step=5, \n",
    "                                 num_cases=10000)"
   ]
  },
  {
   "cell_type": "code",
   "execution_count": 20,
   "id": "2ab3daa6",
   "metadata": {
    "execution": {
     "iopub.execute_input": "2024-08-01T14:02:34.394973Z",
     "iopub.status.busy": "2024-08-01T14:02:34.394292Z",
     "iopub.status.idle": "2024-08-01T14:02:34.405574Z",
     "shell.execute_reply": "2024-08-01T14:02:34.404401Z"
    },
    "papermill": {
     "duration": 0.019131,
     "end_time": "2024-08-01T14:02:34.407861",
     "exception": false,
     "start_time": "2024-08-01T14:02:34.388730",
     "status": "completed"
    },
    "tags": []
   },
   "outputs": [],
   "source": [
    "# group test cases by step size\n",
    "test_cases_by_step = {\n",
    "    step: [t_case for t_case in test_cases if t_case[1] == step]\n",
    "    for step in range(1, 6)\n",
    "}"
   ]
  },
  {
   "cell_type": "code",
   "execution_count": 21,
   "id": "ebd540a6",
   "metadata": {
    "execution": {
     "iopub.execute_input": "2024-08-01T14:02:34.418650Z",
     "iopub.status.busy": "2024-08-01T14:02:34.418263Z",
     "iopub.status.idle": "2024-08-01T14:02:34.423682Z",
     "shell.execute_reply": "2024-08-01T14:02:34.422860Z"
    },
    "papermill": {
     "duration": 0.013053,
     "end_time": "2024-08-01T14:02:34.425343",
     "exception": false,
     "start_time": "2024-08-01T14:02:34.412290",
     "status": "completed"
    },
    "tags": []
   },
   "outputs": [
    {
     "name": "stdout",
     "output_type": "stream",
     "text": [
      "Step = 1: 1962 test cases\n",
      "Step = 2: 1996 test cases\n",
      "Step = 3: 2034 test cases\n",
      "Step = 4: 1973 test cases\n",
      "Step = 5: 2035 test cases\n"
     ]
    }
   ],
   "source": [
    "for step, t_cases in test_cases_by_step.items():\n",
    "    print(f\"Step = {step}: {len(t_cases)} test cases\")"
   ]
  },
  {
   "cell_type": "code",
   "execution_count": 22,
   "id": "114f303d",
   "metadata": {
    "execution": {
     "iopub.execute_input": "2024-08-01T14:02:34.435738Z",
     "iopub.status.busy": "2024-08-01T14:02:34.435317Z",
     "iopub.status.idle": "2024-08-01T14:02:34.445310Z",
     "shell.execute_reply": "2024-08-01T14:02:34.443987Z"
    },
    "papermill": {
     "duration": 0.018278,
     "end_time": "2024-08-01T14:02:34.447963",
     "exception": false,
     "start_time": "2024-08-01T14:02:34.429685",
     "status": "completed"
    },
    "tags": []
   },
   "outputs": [],
   "source": [
    "# get a set of all numbers in test cases\n",
    "all_numbers = [\n",
    "    num\n",
    "    for t_case in test_cases\n",
    "    for num in t_case[2]\n",
    "]\n",
    "\n",
    "# add query numbers too\n",
    "all_numbers.extend([t_case[0] for t_case in test_cases])"
   ]
  },
  {
   "cell_type": "code",
   "execution_count": 23,
   "id": "b145df68",
   "metadata": {
    "execution": {
     "iopub.execute_input": "2024-08-01T14:02:34.460152Z",
     "iopub.status.busy": "2024-08-01T14:02:34.459784Z",
     "iopub.status.idle": "2024-08-01T14:02:39.482958Z",
     "shell.execute_reply": "2024-08-01T14:02:39.480651Z"
    },
    "papermill": {
     "duration": 5.03486,
     "end_time": "2024-08-01T14:02:39.487928",
     "exception": false,
     "start_time": "2024-08-01T14:02:34.453068",
     "status": "completed"
    },
    "tags": []
   },
   "outputs": [],
   "source": [
    "unique_numbers = list(set(all_numbers))\n",
    "\n",
    "unique_numbers_embeddings = model.encode([str(i) for i in unique_numbers])"
   ]
  },
  {
   "cell_type": "code",
   "execution_count": 24,
   "id": "f4201435",
   "metadata": {
    "execution": {
     "iopub.execute_input": "2024-08-01T14:02:39.521385Z",
     "iopub.status.busy": "2024-08-01T14:02:39.520371Z",
     "iopub.status.idle": "2024-08-01T14:02:39.531353Z",
     "shell.execute_reply": "2024-08-01T14:02:39.529075Z"
    },
    "papermill": {
     "duration": 0.031681,
     "end_time": "2024-08-01T14:02:39.535920",
     "exception": false,
     "start_time": "2024-08-01T14:02:39.504239",
     "status": "completed"
    },
    "tags": []
   },
   "outputs": [],
   "source": [
    "num_to_embeddings = {\n",
    "    num: emb\n",
    "    for num, emb in zip(unique_numbers, unique_numbers_embeddings)\n",
    "}"
   ]
  },
  {
   "cell_type": "code",
   "execution_count": 27,
   "id": "40945ab9",
   "metadata": {
    "execution": {
     "iopub.execute_input": "2024-08-01T14:02:39.560439Z",
     "iopub.status.busy": "2024-08-01T14:02:39.558503Z",
     "iopub.status.idle": "2024-08-01T14:02:44.857616Z",
     "shell.execute_reply": "2024-08-01T14:02:44.857070Z"
    },
    "papermill": {
     "duration": 5.313052,
     "end_time": "2024-08-01T14:02:44.859286",
     "exception": false,
     "start_time": "2024-08-01T14:02:39.546234",
     "status": "completed"
    },
    "tags": []
   },
   "outputs": [
    {
     "data": {
      "application/vnd.jupyter.widget-view+json": {
       "model_id": "d82a35a8df744f6f92bc30dfaead0e71",
       "version_major": 2,
       "version_minor": 0
      },
      "text/plain": [
       "  0%|          | 0/10000 [00:00<?, ?it/s]"
      ]
     },
     "metadata": {},
     "output_type": "display_data"
    },
    {
     "name": "stdout",
     "output_type": "stream",
     "text": [
      "Query Number: 13\n",
      "Step: 1\n",
      "Candidates: [14, 15, 16, 17, 18, 19, 20, 21, 22, 23]\n",
      "    Ranked: [14, 21, 23, 20, 17, 18, 16, 15, 19, 22]\n",
      "\n",
      "Numerical Distances: [1, 8, 10, 7, 4, 5, 3, 2, 6, 9]\n",
      "Embedding Distances: [0.293, 0.352, 0.359, 0.394, 0.405, 0.465, 0.48, 0.483, 0.499, 0.5]\n",
      "Kendall's Tau: -0.022222222222222223\n",
      "\n",
      "Query Number: 19\n",
      "Step: 5\n",
      "Candidates: [24, 29, 34, 39, 44, 49, 54, 59, 64, 69]\n",
      "    Ranked: [49, 39, 59, 29, 69, 24, 34, 54, 64, 44]\n",
      "\n",
      "Numerical Distances: [30, 20, 40, 10, 50, 5, 15, 35, 45, 25]\n",
      "Embedding Distances: [0.315, 0.322, 0.346, 0.378, 0.38, 0.382, 0.389, 0.426, 0.427, 0.486]\n",
      "Kendall's Tau: 0.06666666666666667\n",
      "\n",
      "Query Number: 90\n",
      "Step: 4\n",
      "Candidates: [94, 98, 102, 106, 110, 114, 118, 122, 126, 130]\n",
      "    Ranked: [98, 94, 110, 114, 106, 130, 118, 102, 122, 126]\n",
      "\n",
      "Numerical Distances: [8, 4, 20, 24, 16, 40, 28, 12, 32, 36]\n",
      "Embedding Distances: [0.281, 0.296, 0.298, 0.32, 0.351, 0.403, 0.438, 0.445, 0.45, 0.487]\n",
      "Kendall's Tau: 0.5111111111111111\n",
      "\n",
      "Query Number: 68\n",
      "Step: 1\n",
      "Candidates: [69, 70, 71, 72, 73, 74, 75, 76, 77, 78]\n",
      "    Ranked: [69, 70, 72, 78, 71, 77, 73, 74, 75, 76]\n",
      "\n",
      "Numerical Distances: [1, 2, 4, 10, 3, 9, 5, 6, 7, 8]\n",
      "Embedding Distances: [0.313, 0.32, 0.325, 0.349, 0.405, 0.42, 0.429, 0.435, 0.451, 0.451]\n",
      "Kendall's Tau: 0.4944132324730442\n",
      "\n",
      "Query Number: 78\n",
      "Step: 1\n",
      "Candidates: [79, 80, 81, 82, 83, 84, 85, 86, 87, 88]\n",
      "    Ranked: [79, 84, 87, 80, 82, 81, 83, 86, 88, 85]\n",
      "\n",
      "Numerical Distances: [1, 6, 9, 2, 4, 3, 5, 8, 10, 7]\n",
      "Embedding Distances: [0.292, 0.3, 0.3, 0.337, 0.345, 0.345, 0.349, 0.361, 0.383, 0.383]\n",
      "Kendall's Tau: 0.46004370622823615\n",
      "\n",
      "Query Number: 55\n",
      "Step: 3\n",
      "Candidates: [58, 61, 64, 67, 70, 73, 76, 79, 82, 85]\n",
      "    Ranked: [67, 79, 85, 58, 82, 61, 70, 64, 76, 73]\n",
      "\n",
      "Numerical Distances: [12, 24, 30, 3, 27, 6, 15, 9, 21, 18]\n",
      "Embedding Distances: [0.28, 0.345, 0.378, 0.394, 0.396, 0.398, 0.402, 0.42, 0.432, 0.475]\n",
      "Kendall's Tau: -0.022222222222222223\n",
      "\n",
      "Query Number: 58\n",
      "Step: 5\n",
      "Candidates: [63, 68, 73, 78, 83, 88, 93, 98, 103, 108]\n",
      "    Ranked: [78, 93, 108, 98, 63, 88, 73, 68, 83, 103]\n",
      "\n",
      "Numerical Distances: [20, 35, 50, 40, 5, 30, 15, 10, 25, 45]\n",
      "Embedding Distances: [0.306, 0.333, 0.365, 0.387, 0.4, 0.424, 0.431, 0.461, 0.494, 0.502]\n",
      "Kendall's Tau: -0.06666666666666667\n",
      "\n",
      "Query Number: 22\n",
      "Step: 1\n",
      "Candidates: [23, 24, 25, 26, 27, 28, 29, 30, 31, 32]\n",
      "    Ranked: [23, 24, 28, 27, 30, 31, 25, 32, 26, 29]\n",
      "\n",
      "Numerical Distances: [1, 2, 6, 5, 8, 9, 3, 10, 4, 7]\n",
      "Embedding Distances: [0.303, 0.362, 0.367, 0.374, 0.394, 0.399, 0.415, 0.421, 0.438, 0.524]\n",
      "Kendall's Tau: 0.4222222222222222\n",
      "\n",
      "Query Number: 32\n",
      "Step: 5\n",
      "Candidates: [37, 42, 47, 52, 57, 62, 67, 72, 77, 82]\n",
      "    Ranked: [82, 72, 62, 47, 52, 37, 42, 77, 57, 67]\n",
      "\n",
      "Numerical Distances: [50, 40, 30, 15, 20, 5, 10, 45, 25, 35]\n",
      "Embedding Distances: [0.315, 0.351, 0.388, 0.4, 0.408, 0.429, 0.445, 0.491, 0.51, 0.568]\n",
      "Kendall's Tau: -0.19999999999999998\n",
      "\n",
      "Query Number: 4\n",
      "Step: 4\n",
      "Candidates: [8, 12, 16, 20, 24, 28, 32, 36, 40, 44]\n",
      "    Ranked: [44, 8, 24, 40, 12, 16, 28, 36, 20, 32]\n",
      "\n",
      "Numerical Distances: [40, 4, 20, 36, 8, 12, 24, 32, 16, 28]\n",
      "Embedding Distances: [0.406, 0.407, 0.412, 0.413, 0.434, 0.45, 0.45, 0.454, 0.471, 0.479]\n",
      "Kendall's Tau: 0.044946657497549475\n",
      "\n",
      "Query Number: 17\n",
      "Step: 2\n",
      "Candidates: [19, 21, 23, 25, 27, 29, 31, 33, 35, 37]\n",
      "    Ranked: [37, 33, 27, 21, 29, 23, 31, 25, 19, 35]\n",
      "\n",
      "Numerical Distances: [20, 16, 10, 4, 12, 6, 14, 8, 2, 18]\n",
      "Embedding Distances: [0.331, 0.338, 0.341, 0.341, 0.388, 0.403, 0.443, 0.479, 0.493, 0.529]\n",
      "Kendall's Tau: -0.22473328748774737\n",
      "\n"
     ]
    }
   ],
   "source": [
    "n = 0\n",
    "debug = True\n",
    "\n",
    "step_to_tau_correlations = defaultdict(list)\n",
    "\n",
    "for k, t_case in tqdm(enumerate(test_cases), total=len(test_cases)):\n",
    "\n",
    "    query_num, step, candidates = t_case\n",
    "\n",
    "    # create a dictionary to map index to number\n",
    "    index_to_number = {i: num for i, num in enumerate(candidates)}\n",
    "\n",
    "    # get the embedding for the query number\n",
    "    query_num_emb = num_to_embeddings[query_num].reshape(1, -1)\n",
    "\n",
    "    # normalize the query number embedding\n",
    "    faiss.normalize_L2(query_num_emb)\n",
    "\n",
    "    # get the embeddings for the candidates\n",
    "    candidate_embs = np.array([num_to_embeddings[c] for c in candidates])\n",
    "\n",
    "    # get the dimensionality of the embeddings\n",
    "    d = candidate_embs.shape[1]\n",
    "\n",
    "    # create search index\n",
    "    # normalize embeddings\n",
    "    faiss.normalize_L2(candidate_embs)\n",
    "\n",
    "    # create an inner product index\n",
    "    DB_index = faiss.IndexFlatIP(d)\n",
    "\n",
    "    # Add normalized vectors to the index\n",
    "    DB_index.add(candidate_embs)\n",
    "\n",
    "    # Search\n",
    "    k = 10  # number of nearest neighbors to retrieve\n",
    "    embedding_similarities, indices = DB_index.search(query_num_emb, k)\n",
    "\n",
    "    # turn similarities into distances and round\n",
    "    embedding_distances_rounded = [\n",
    "        round(1 - d, 3) for d in embedding_similarities[0]\n",
    "    ]\n",
    "\n",
    "    # retrieve numbers from indices\n",
    "    ranked_candidates = [index_to_number[i] for i in indices[0]]\n",
    "\n",
    "    # calculate numerical distances (distance on the number line)\n",
    "    numerical_distances = [abs(query_num - c) for c in ranked_candidates]\n",
    "\n",
    "    # calculate Kendall's tau\n",
    "    kendall_tau, _ = stats.kendalltau(\n",
    "        numerical_distances, \n",
    "        embedding_distances_rounded\n",
    "    )\n",
    "\n",
    "    step_to_tau_correlations[step].append(kendall_tau)\n",
    "\n",
    "    if debug:\n",
    "\n",
    "        # print results\n",
    "        print(f\"Query Number: {query_num}\")\n",
    "        print(f\"Step: {step}\")\n",
    "        print(f\"Candidates: {candidates}\")\n",
    "        print(f\"    Ranked: {ranked_candidates}\")\n",
    "        print()\n",
    "        print(f\"Numerical Distances: {numerical_distances}\")\n",
    "        print(f\"Embedding Distances: {embedding_distances_rounded}\")\n",
    "\n",
    "        \n",
    "        print(f\"Kendall's Tau: {kendall_tau}\")\n",
    "        print()\n",
    "\n",
    "        if n == 10:\n",
    "            break\n",
    "\n",
    "        n += 1"
   ]
  },
  {
   "cell_type": "code",
   "execution_count": 26,
   "id": "35e361a3",
   "metadata": {
    "execution": {
     "iopub.execute_input": "2024-08-01T14:02:44.874371Z",
     "iopub.status.busy": "2024-08-01T14:02:44.873861Z",
     "iopub.status.idle": "2024-08-01T14:02:44.893395Z",
     "shell.execute_reply": "2024-08-01T14:02:44.892706Z"
    },
    "papermill": {
     "duration": 0.029873,
     "end_time": "2024-08-01T14:02:44.895484",
     "exception": false,
     "start_time": "2024-08-01T14:02:44.865611",
     "status": "completed"
    },
    "tags": []
   },
   "outputs": [
    {
     "data": {
      "text/html": [
       "<div>\n",
       "<style scoped>\n",
       "    .dataframe tbody tr th:only-of-type {\n",
       "        vertical-align: middle;\n",
       "    }\n",
       "\n",
       "    .dataframe tbody tr th {\n",
       "        vertical-align: top;\n",
       "    }\n",
       "\n",
       "    .dataframe thead th {\n",
       "        text-align: right;\n",
       "    }\n",
       "</style>\n",
       "<table border=\"1\" class=\"dataframe\">\n",
       "  <thead>\n",
       "    <tr style=\"text-align: right;\">\n",
       "      <th></th>\n",
       "      <th>step</th>\n",
       "      <th>mean_tau</th>\n",
       "      <th>std_tau</th>\n",
       "    </tr>\n",
       "  </thead>\n",
       "  <tbody>\n",
       "    <tr>\n",
       "      <th>1</th>\n",
       "      <td>1</td>\n",
       "      <td>0.278791</td>\n",
       "      <td>0.240460</td>\n",
       "    </tr>\n",
       "    <tr>\n",
       "      <th>2</th>\n",
       "      <td>2</td>\n",
       "      <td>0.179938</td>\n",
       "      <td>0.208732</td>\n",
       "    </tr>\n",
       "    <tr>\n",
       "      <th>3</th>\n",
       "      <td>3</td>\n",
       "      <td>0.121105</td>\n",
       "      <td>0.254391</td>\n",
       "    </tr>\n",
       "    <tr>\n",
       "      <th>4</th>\n",
       "      <td>4</td>\n",
       "      <td>0.145038</td>\n",
       "      <td>0.248601</td>\n",
       "    </tr>\n",
       "    <tr>\n",
       "      <th>5</th>\n",
       "      <td>5</td>\n",
       "      <td>0.102117</td>\n",
       "      <td>0.217201</td>\n",
       "    </tr>\n",
       "  </tbody>\n",
       "</table>\n",
       "</div>"
      ],
      "text/plain": [
       "   step  mean_tau   std_tau\n",
       "1     1  0.278791  0.240460\n",
       "2     2  0.179938  0.208732\n",
       "3     3  0.121105  0.254391\n",
       "4     4  0.145038  0.248601\n",
       "5     5  0.102117  0.217201"
      ]
     },
     "execution_count": 26,
     "metadata": {},
     "output_type": "execute_result"
    }
   ],
   "source": [
    "# get some statistics for each step size\n",
    "# generate some statistics in a dataframe \n",
    "step_statistics = {\n",
    "    \"step\": [],\n",
    "    \"mean_tau\": [],\n",
    "    \"std_tau\": []\n",
    "}\n",
    "\n",
    "for step, taus in step_to_tau_correlations.items():\n",
    "    step_statistics[\"step\"].append(step)\n",
    "    step_statistics[\"mean_tau\"].append(np.mean(taus))\n",
    "    step_statistics[\"std_tau\"].append(np.std(taus))\n",
    "\n",
    "step_statistics_df = pd.DataFrame(step_statistics, index=step_statistics[\"step\"])\n",
    "\n",
    "# show dataframe orderby step size\n",
    "step_statistics_df.sort_index()\n",
    "\n",
    "\n",
    "# for step in range(1, 6):\n",
    "#     taus = step_to_tau_correlations[step]\n",
    "#     print(f\"Step = {step}\")\n",
    "#     print(f\"    mean Kendall's Tau: {np.mean(taus):.3f}\")\n",
    "#     print(f\"  stddev Kendall's Tau: {np.std(taus):.3f}\")\n",
    "#     print()"
   ]
  },
  {
   "cell_type": "code",
   "execution_count": null,
   "id": "ea672c14",
   "metadata": {
    "papermill": {
     "duration": 0.006179,
     "end_time": "2024-08-01T14:02:44.908499",
     "exception": false,
     "start_time": "2024-08-01T14:02:44.902320",
     "status": "completed"
    },
    "tags": []
   },
   "outputs": [],
   "source": []
  }
 ],
 "metadata": {
  "kernelspec": {
   "display_name": "embeddings",
   "language": "python",
   "name": "python3"
  },
  "language_info": {
   "codemirror_mode": {
    "name": "ipython",
    "version": 3
   },
   "file_extension": ".py",
   "mimetype": "text/x-python",
   "name": "python",
   "nbconvert_exporter": "python",
   "pygments_lexer": "ipython3",
   "version": "3.11.5"
  },
  "papermill": {
   "default_parameters": {},
   "duration": 24.981251,
   "end_time": "2024-08-01T14:02:47.048454",
   "environment_variables": {},
   "exception": null,
   "input_path": "compute_corr_stats.ipynb",
   "output_path": "compute_corr_stats_1.ipynb",
   "parameters": {
    "model_id": "mixedbread-ai/mxbai-embed-large-v1"
   },
   "start_time": "2024-08-01T14:02:22.067203",
   "version": "2.6.0"
  },
  "widgets": {
   "application/vnd.jupyter.widget-state+json": {
    "state": {
     "20f36917fe714adba1a131fa600d6722": {
      "model_module": "@jupyter-widgets/base",
      "model_module_version": "2.0.0",
      "model_name": "LayoutModel",
      "state": {
       "_model_module": "@jupyter-widgets/base",
       "_model_module_version": "2.0.0",
       "_model_name": "LayoutModel",
       "_view_count": null,
       "_view_module": "@jupyter-widgets/base",
       "_view_module_version": "2.0.0",
       "_view_name": "LayoutView",
       "align_content": null,
       "align_items": null,
       "align_self": null,
       "border_bottom": null,
       "border_left": null,
       "border_right": null,
       "border_top": null,
       "bottom": null,
       "display": null,
       "flex": null,
       "flex_flow": null,
       "grid_area": null,
       "grid_auto_columns": null,
       "grid_auto_flow": null,
       "grid_auto_rows": null,
       "grid_column": null,
       "grid_gap": null,
       "grid_row": null,
       "grid_template_areas": null,
       "grid_template_columns": null,
       "grid_template_rows": null,
       "height": null,
       "justify_content": null,
       "justify_items": null,
       "left": null,
       "margin": null,
       "max_height": null,
       "max_width": null,
       "min_height": null,
       "min_width": null,
       "object_fit": null,
       "object_position": null,
       "order": null,
       "overflow": null,
       "padding": null,
       "right": null,
       "top": null,
       "visibility": null,
       "width": null
      }
     },
     "2dccfab6745b4ad3a72ffe7ff844f27b": {
      "model_module": "@jupyter-widgets/controls",
      "model_module_version": "2.0.0",
      "model_name": "FloatProgressModel",
      "state": {
       "_dom_classes": [],
       "_model_module": "@jupyter-widgets/controls",
       "_model_module_version": "2.0.0",
       "_model_name": "FloatProgressModel",
       "_view_count": null,
       "_view_module": "@jupyter-widgets/controls",
       "_view_module_version": "2.0.0",
       "_view_name": "ProgressView",
       "bar_style": "success",
       "description": "",
       "description_allow_html": false,
       "layout": "IPY_MODEL_637d4f88db64426b8f2b5c1de962b278",
       "max": 10000,
       "min": 0,
       "orientation": "horizontal",
       "style": "IPY_MODEL_2f8173a546f64aa9ae8223e53dac5217",
       "tabbable": null,
       "tooltip": null,
       "value": 10000
      }
     },
     "2f8173a546f64aa9ae8223e53dac5217": {
      "model_module": "@jupyter-widgets/controls",
      "model_module_version": "2.0.0",
      "model_name": "ProgressStyleModel",
      "state": {
       "_model_module": "@jupyter-widgets/controls",
       "_model_module_version": "2.0.0",
       "_model_name": "ProgressStyleModel",
       "_view_count": null,
       "_view_module": "@jupyter-widgets/base",
       "_view_module_version": "2.0.0",
       "_view_name": "StyleView",
       "bar_color": null,
       "description_width": ""
      }
     },
     "3e52fa312a0845e59f6a86666e2b34bc": {
      "model_module": "@jupyter-widgets/base",
      "model_module_version": "2.0.0",
      "model_name": "LayoutModel",
      "state": {
       "_model_module": "@jupyter-widgets/base",
       "_model_module_version": "2.0.0",
       "_model_name": "LayoutModel",
       "_view_count": null,
       "_view_module": "@jupyter-widgets/base",
       "_view_module_version": "2.0.0",
       "_view_name": "LayoutView",
       "align_content": null,
       "align_items": null,
       "align_self": null,
       "border_bottom": null,
       "border_left": null,
       "border_right": null,
       "border_top": null,
       "bottom": null,
       "display": null,
       "flex": null,
       "flex_flow": null,
       "grid_area": null,
       "grid_auto_columns": null,
       "grid_auto_flow": null,
       "grid_auto_rows": null,
       "grid_column": null,
       "grid_gap": null,
       "grid_row": null,
       "grid_template_areas": null,
       "grid_template_columns": null,
       "grid_template_rows": null,
       "height": null,
       "justify_content": null,
       "justify_items": null,
       "left": null,
       "margin": null,
       "max_height": null,
       "max_width": null,
       "min_height": null,
       "min_width": null,
       "object_fit": null,
       "object_position": null,
       "order": null,
       "overflow": null,
       "padding": null,
       "right": null,
       "top": null,
       "visibility": null,
       "width": null
      }
     },
     "637d4f88db64426b8f2b5c1de962b278": {
      "model_module": "@jupyter-widgets/base",
      "model_module_version": "2.0.0",
      "model_name": "LayoutModel",
      "state": {
       "_model_module": "@jupyter-widgets/base",
       "_model_module_version": "2.0.0",
       "_model_name": "LayoutModel",
       "_view_count": null,
       "_view_module": "@jupyter-widgets/base",
       "_view_module_version": "2.0.0",
       "_view_name": "LayoutView",
       "align_content": null,
       "align_items": null,
       "align_self": null,
       "border_bottom": null,
       "border_left": null,
       "border_right": null,
       "border_top": null,
       "bottom": null,
       "display": null,
       "flex": null,
       "flex_flow": null,
       "grid_area": null,
       "grid_auto_columns": null,
       "grid_auto_flow": null,
       "grid_auto_rows": null,
       "grid_column": null,
       "grid_gap": null,
       "grid_row": null,
       "grid_template_areas": null,
       "grid_template_columns": null,
       "grid_template_rows": null,
       "height": null,
       "justify_content": null,
       "justify_items": null,
       "left": null,
       "margin": null,
       "max_height": null,
       "max_width": null,
       "min_height": null,
       "min_width": null,
       "object_fit": null,
       "object_position": null,
       "order": null,
       "overflow": null,
       "padding": null,
       "right": null,
       "top": null,
       "visibility": null,
       "width": null
      }
     },
     "914eca823cdf4d4b87fe7ea4f14c896e": {
      "model_module": "@jupyter-widgets/controls",
      "model_module_version": "2.0.0",
      "model_name": "HTMLModel",
      "state": {
       "_dom_classes": [],
       "_model_module": "@jupyter-widgets/controls",
       "_model_module_version": "2.0.0",
       "_model_name": "HTMLModel",
       "_view_count": null,
       "_view_module": "@jupyter-widgets/controls",
       "_view_module_version": "2.0.0",
       "_view_name": "HTMLView",
       "description": "",
       "description_allow_html": false,
       "layout": "IPY_MODEL_20f36917fe714adba1a131fa600d6722",
       "placeholder": "​",
       "style": "IPY_MODEL_f59fbd3494954c17a65b6a0a04511c3c",
       "tabbable": null,
       "tooltip": null,
       "value": " 10000/10000 [00:05&lt;00:00, 2305.89it/s]"
      }
     },
     "9b4263dac2524708b34942574e452243": {
      "model_module": "@jupyter-widgets/controls",
      "model_module_version": "2.0.0",
      "model_name": "HBoxModel",
      "state": {
       "_dom_classes": [],
       "_model_module": "@jupyter-widgets/controls",
       "_model_module_version": "2.0.0",
       "_model_name": "HBoxModel",
       "_view_count": null,
       "_view_module": "@jupyter-widgets/controls",
       "_view_module_version": "2.0.0",
       "_view_name": "HBoxView",
       "box_style": "",
       "children": [
        "IPY_MODEL_c1ba6a534ad5465d97ab2a7f10cea456",
        "IPY_MODEL_2dccfab6745b4ad3a72ffe7ff844f27b",
        "IPY_MODEL_914eca823cdf4d4b87fe7ea4f14c896e"
       ],
       "layout": "IPY_MODEL_aa9b06c9bfe94b3bacb9afc8e0156f84",
       "tabbable": null,
       "tooltip": null
      }
     },
     "aa9b06c9bfe94b3bacb9afc8e0156f84": {
      "model_module": "@jupyter-widgets/base",
      "model_module_version": "2.0.0",
      "model_name": "LayoutModel",
      "state": {
       "_model_module": "@jupyter-widgets/base",
       "_model_module_version": "2.0.0",
       "_model_name": "LayoutModel",
       "_view_count": null,
       "_view_module": "@jupyter-widgets/base",
       "_view_module_version": "2.0.0",
       "_view_name": "LayoutView",
       "align_content": null,
       "align_items": null,
       "align_self": null,
       "border_bottom": null,
       "border_left": null,
       "border_right": null,
       "border_top": null,
       "bottom": null,
       "display": null,
       "flex": null,
       "flex_flow": null,
       "grid_area": null,
       "grid_auto_columns": null,
       "grid_auto_flow": null,
       "grid_auto_rows": null,
       "grid_column": null,
       "grid_gap": null,
       "grid_row": null,
       "grid_template_areas": null,
       "grid_template_columns": null,
       "grid_template_rows": null,
       "height": null,
       "justify_content": null,
       "justify_items": null,
       "left": null,
       "margin": null,
       "max_height": null,
       "max_width": null,
       "min_height": null,
       "min_width": null,
       "object_fit": null,
       "object_position": null,
       "order": null,
       "overflow": null,
       "padding": null,
       "right": null,
       "top": null,
       "visibility": null,
       "width": null
      }
     },
     "bebe98ce2d744d6193ba355cf0ceebb5": {
      "model_module": "@jupyter-widgets/controls",
      "model_module_version": "2.0.0",
      "model_name": "HTMLStyleModel",
      "state": {
       "_model_module": "@jupyter-widgets/controls",
       "_model_module_version": "2.0.0",
       "_model_name": "HTMLStyleModel",
       "_view_count": null,
       "_view_module": "@jupyter-widgets/base",
       "_view_module_version": "2.0.0",
       "_view_name": "StyleView",
       "background": null,
       "description_width": "",
       "font_size": null,
       "text_color": null
      }
     },
     "c1ba6a534ad5465d97ab2a7f10cea456": {
      "model_module": "@jupyter-widgets/controls",
      "model_module_version": "2.0.0",
      "model_name": "HTMLModel",
      "state": {
       "_dom_classes": [],
       "_model_module": "@jupyter-widgets/controls",
       "_model_module_version": "2.0.0",
       "_model_name": "HTMLModel",
       "_view_count": null,
       "_view_module": "@jupyter-widgets/controls",
       "_view_module_version": "2.0.0",
       "_view_name": "HTMLView",
       "description": "",
       "description_allow_html": false,
       "layout": "IPY_MODEL_3e52fa312a0845e59f6a86666e2b34bc",
       "placeholder": "​",
       "style": "IPY_MODEL_bebe98ce2d744d6193ba355cf0ceebb5",
       "tabbable": null,
       "tooltip": null,
       "value": "100%"
      }
     },
     "f59fbd3494954c17a65b6a0a04511c3c": {
      "model_module": "@jupyter-widgets/controls",
      "model_module_version": "2.0.0",
      "model_name": "HTMLStyleModel",
      "state": {
       "_model_module": "@jupyter-widgets/controls",
       "_model_module_version": "2.0.0",
       "_model_name": "HTMLStyleModel",
       "_view_count": null,
       "_view_module": "@jupyter-widgets/base",
       "_view_module_version": "2.0.0",
       "_view_name": "StyleView",
       "background": null,
       "description_width": "",
       "font_size": null,
       "text_color": null
      }
     }
    },
    "version_major": 2,
    "version_minor": 0
   }
  }
 },
 "nbformat": 4,
 "nbformat_minor": 5
}
