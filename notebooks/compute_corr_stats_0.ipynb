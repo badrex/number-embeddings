{
 "cells": [
  {
   "cell_type": "code",
   "execution_count": 1,
   "id": "1beecc9d",
   "metadata": {
    "execution": {
     "iopub.execute_input": "2024-08-01T14:02:03.480543Z",
     "iopub.status.busy": "2024-08-01T14:02:03.479802Z",
     "iopub.status.idle": "2024-08-01T14:02:05.752276Z",
     "shell.execute_reply": "2024-08-01T14:02:05.750312Z"
    },
    "papermill": {
     "duration": 2.28903,
     "end_time": "2024-08-01T14:02:05.756489",
     "exception": false,
     "start_time": "2024-08-01T14:02:03.467459",
     "status": "completed"
    },
    "tags": []
   },
   "outputs": [],
   "source": [
    "import numpy as np\n",
    "import pandas as pd\n",
    "import matplotlib.pyplot as plt\n",
    "import seaborn as sns\n",
    "from collections import defaultdict, Counter"
   ]
  },
  {
   "cell_type": "code",
   "execution_count": 2,
   "id": "9a8441dc",
   "metadata": {
    "execution": {
     "iopub.execute_input": "2024-08-01T14:02:05.775435Z",
     "iopub.status.busy": "2024-08-01T14:02:05.774597Z",
     "iopub.status.idle": "2024-08-01T14:02:05.781293Z",
     "shell.execute_reply": "2024-08-01T14:02:05.779758Z"
    },
    "papermill": {
     "duration": 0.020889,
     "end_time": "2024-08-01T14:02:05.785075",
     "exception": false,
     "start_time": "2024-08-01T14:02:05.764186",
     "status": "completed"
    },
    "tags": []
   },
   "outputs": [],
   "source": [
    "from typing import List, Dict, Any, Tuple"
   ]
  },
  {
   "cell_type": "code",
   "execution_count": 3,
   "id": "ffc796dc",
   "metadata": {
    "execution": {
     "iopub.execute_input": "2024-08-01T14:02:05.798398Z",
     "iopub.status.busy": "2024-08-01T14:02:05.797761Z",
     "iopub.status.idle": "2024-08-01T14:02:05.813388Z",
     "shell.execute_reply": "2024-08-01T14:02:05.812391Z"
    },
    "papermill": {
     "duration": 0.026193,
     "end_time": "2024-08-01T14:02:05.816666",
     "exception": false,
     "start_time": "2024-08-01T14:02:05.790473",
     "status": "completed"
    },
    "tags": []
   },
   "outputs": [],
   "source": [
    "from tqdm.notebook import tqdm, trange"
   ]
  },
  {
   "cell_type": "code",
   "execution_count": 4,
   "id": "6add0e4f",
   "metadata": {
    "execution": {
     "iopub.execute_input": "2024-08-01T14:02:05.827897Z",
     "iopub.status.busy": "2024-08-01T14:02:05.827505Z",
     "iopub.status.idle": "2024-08-01T14:02:05.833308Z",
     "shell.execute_reply": "2024-08-01T14:02:05.831825Z"
    },
    "papermill": {
     "duration": 0.014276,
     "end_time": "2024-08-01T14:02:05.835876",
     "exception": false,
     "start_time": "2024-08-01T14:02:05.821600",
     "status": "completed"
    },
    "tags": []
   },
   "outputs": [],
   "source": [
    "from scipy import stats"
   ]
  },
  {
   "cell_type": "code",
   "execution_count": 5,
   "id": "b9399462",
   "metadata": {
    "execution": {
     "iopub.execute_input": "2024-08-01T14:02:05.850324Z",
     "iopub.status.busy": "2024-08-01T14:02:05.849523Z",
     "iopub.status.idle": "2024-08-01T14:02:11.448541Z",
     "shell.execute_reply": "2024-08-01T14:02:11.447385Z"
    },
    "papermill": {
     "duration": 5.610364,
     "end_time": "2024-08-01T14:02:11.451354",
     "exception": false,
     "start_time": "2024-08-01T14:02:05.840990",
     "status": "completed"
    },
    "tags": []
   },
   "outputs": [
    {
     "name": "stderr",
     "output_type": "stream",
     "text": [
      "/home/badr/embeddings/lib/python3.11/site-packages/sentence_transformers/cross_encoder/CrossEncoder.py:11: TqdmExperimentalWarning: Using `tqdm.autonotebook.tqdm` in notebook mode. Use `tqdm.tqdm` instead to force console mode (e.g. in jupyter console)\n",
      "  from tqdm.autonotebook import tqdm, trange\n"
     ]
    }
   ],
   "source": [
    "import faiss \n",
    "\n",
    "from sentence_transformers import SentenceTransformer\n",
    "#from sentence_transformers.quantization import quantize_embeddings"
   ]
  },
  {
   "cell_type": "code",
   "execution_count": 6,
   "id": "aefda2ec",
   "metadata": {
    "execution": {
     "iopub.execute_input": "2024-08-01T14:02:11.466454Z",
     "iopub.status.busy": "2024-08-01T14:02:11.465539Z",
     "iopub.status.idle": "2024-08-01T14:02:11.473897Z",
     "shell.execute_reply": "2024-08-01T14:02:11.471872Z"
    },
    "papermill": {
     "duration": 0.018461,
     "end_time": "2024-08-01T14:02:11.477247",
     "exception": false,
     "start_time": "2024-08-01T14:02:11.458786",
     "status": "completed"
    },
    "tags": [
     "parameters"
    ]
   },
   "outputs": [],
   "source": [
    "model_id = \"sentence-transformers/all-MiniLM-L6-v2\""
   ]
  },
  {
   "cell_type": "code",
   "execution_count": 7,
   "id": "f437b856",
   "metadata": {
    "execution": {
     "iopub.execute_input": "2024-08-01T14:02:11.499546Z",
     "iopub.status.busy": "2024-08-01T14:02:11.497920Z",
     "iopub.status.idle": "2024-08-01T14:02:11.505550Z",
     "shell.execute_reply": "2024-08-01T14:02:11.503889Z"
    },
    "papermill": {
     "duration": 0.024006,
     "end_time": "2024-08-01T14:02:11.509590",
     "exception": false,
     "start_time": "2024-08-01T14:02:11.485584",
     "status": "completed"
    },
    "tags": [
     "injected-parameters"
    ]
   },
   "outputs": [],
   "source": [
    "# Parameters\n",
    "model_id = \"sentence-transformers/all-MiniLM-L6-v2\"\n"
   ]
  },
  {
   "cell_type": "code",
   "execution_count": 8,
   "id": "2274d65f",
   "metadata": {
    "execution": {
     "iopub.execute_input": "2024-08-01T14:02:11.530409Z",
     "iopub.status.busy": "2024-08-01T14:02:11.529809Z",
     "iopub.status.idle": "2024-08-01T14:02:13.337965Z",
     "shell.execute_reply": "2024-08-01T14:02:13.336257Z"
    },
    "papermill": {
     "duration": 1.825165,
     "end_time": "2024-08-01T14:02:13.343264",
     "exception": false,
     "start_time": "2024-08-01T14:02:11.518099",
     "status": "completed"
    },
    "tags": []
   },
   "outputs": [],
   "source": [
    "# load an embedding model\n",
    "model = SentenceTransformer(model_id)"
   ]
  },
  {
   "cell_type": "code",
   "execution_count": 9,
   "id": "6fc59c88",
   "metadata": {
    "execution": {
     "iopub.execute_input": "2024-08-01T14:02:13.368041Z",
     "iopub.status.busy": "2024-08-01T14:02:13.366812Z",
     "iopub.status.idle": "2024-08-01T14:02:13.376047Z",
     "shell.execute_reply": "2024-08-01T14:02:13.374257Z"
    },
    "papermill": {
     "duration": 0.02614,
     "end_time": "2024-08-01T14:02:13.380070",
     "exception": false,
     "start_time": "2024-08-01T14:02:13.353930",
     "status": "completed"
    },
    "tags": []
   },
   "outputs": [],
   "source": [
    "def generate_single_test_case(num: int,\n",
    "                              step: int = 1) -> Tuple[int, int, List[int]]:\n",
    "    \"\"\"\n",
    "    Given a query number (int) and step size (int), generate a test case.\n",
    "    Return the query number (int), step size (int), \n",
    "    and a candidate list of integers (list).\n",
    "    \"\"\"\n",
    "    # make sure the step size is positive\n",
    "    assert step > 0, f\"step={step} is not valid!  Step size must be positive.\"\n",
    "    \n",
    "    start = num + step\n",
    "    end = num + (11 * step)\n",
    "    return (num, step, list(range(start, end, step)))"
   ]
  },
  {
   "cell_type": "code",
   "execution_count": 10,
   "id": "66541451",
   "metadata": {
    "execution": {
     "iopub.execute_input": "2024-08-01T14:02:13.407471Z",
     "iopub.status.busy": "2024-08-01T14:02:13.406601Z",
     "iopub.status.idle": "2024-08-01T14:02:13.424613Z",
     "shell.execute_reply": "2024-08-01T14:02:13.422773Z"
    },
    "papermill": {
     "duration": 0.038851,
     "end_time": "2024-08-01T14:02:13.428716",
     "exception": false,
     "start_time": "2024-08-01T14:02:13.389865",
     "status": "completed"
    },
    "tags": []
   },
   "outputs": [
    {
     "data": {
      "text/plain": [
       "(10, 2, [12, 14, 16, 18, 20, 22, 24, 26, 28, 30])"
      ]
     },
     "execution_count": 10,
     "metadata": {},
     "output_type": "execute_result"
    }
   ],
   "source": [
    "generate_single_test_case(10, 2)"
   ]
  },
  {
   "cell_type": "code",
   "execution_count": 11,
   "id": "de4a536c",
   "metadata": {
    "execution": {
     "iopub.execute_input": "2024-08-01T14:02:13.451648Z",
     "iopub.status.busy": "2024-08-01T14:02:13.450999Z",
     "iopub.status.idle": "2024-08-01T14:02:13.468775Z",
     "shell.execute_reply": "2024-08-01T14:02:13.467479Z"
    },
    "papermill": {
     "duration": 0.033444,
     "end_time": "2024-08-01T14:02:13.471566",
     "exception": false,
     "start_time": "2024-08-01T14:02:13.438122",
     "status": "completed"
    },
    "tags": []
   },
   "outputs": [],
   "source": [
    "# Test case 1\n",
    "num = 5\n",
    "step = 2\n",
    "expected_result = (5, 2, [7, 9, 11, 13, 15, 17, 19, 21, 23, 25])\n",
    "assert generate_single_test_case(num, step) == expected_result\n",
    "\n",
    "# Test case 2\n",
    "num = 10\n",
    "step = 3\n",
    "expected_result = (10, 3, [13, 16, 19, 22, 25, 28, 31, 34, 37, 40])\n",
    "assert generate_single_test_case(num, step) == expected_result\n",
    "\n",
    "# Test case 3\n",
    "num = 0\n",
    "step = 5\n",
    "expected_result = (0, 5, [5, 10, 15, 20, 25, 30, 35, 40, 45, 50])\n",
    "assert generate_single_test_case(num, step) == expected_result\n",
    "\n",
    "# Test case 4\n",
    "num = -3\n",
    "step = 1\n",
    "expected_result = (-3, 1, [-2, -1, 0, 1, 2, 3, 4, 5, 6, 7])\n",
    "assert generate_single_test_case(num, step) == expected_result\n",
    "\n",
    "# Test case 5\n",
    "num = 1000\n",
    "step = 25\n",
    "expected_result = (1000, 25, [1025, 1050, 1075, 1100, 1125, 1150, 1175, 1200, 1225, 1250])\n",
    "assert generate_single_test_case(num, step) == expected_result"
   ]
  },
  {
   "cell_type": "code",
   "execution_count": 12,
   "id": "f93b9a0e",
   "metadata": {
    "execution": {
     "iopub.execute_input": "2024-08-01T14:02:13.493716Z",
     "iopub.status.busy": "2024-08-01T14:02:13.493005Z",
     "iopub.status.idle": "2024-08-01T14:02:13.506580Z",
     "shell.execute_reply": "2024-08-01T14:02:13.504207Z"
    },
    "papermill": {
     "duration": 0.029862,
     "end_time": "2024-08-01T14:02:13.511701",
     "exception": false,
     "start_time": "2024-08-01T14:02:13.481839",
     "status": "completed"
    },
    "tags": []
   },
   "outputs": [],
   "source": [
    "def generate_test_cases(min_num: int, \n",
    "                        max_num: int,\n",
    "                        min_step: int,\n",
    "                        max_step: int,\n",
    "                        num_cases: int) -> List[Tuple[int, List[int]]]:\n",
    "    \"\"\"\n",
    "    Generate test cases for the given parameters.\n",
    "    Return a list of test cases.\n",
    "    \"\"\"\n",
    "    # make sure the input parameters are valid\n",
    "    assert min_num < max_num, f\"min_num={min_num} must be less than max_num={max_num}\"\n",
    "    assert min_step < max_step, f\"min_step={min_step} must be less than max_step={max_step}\"\n",
    "    assert num_cases > 0, f\"num_cases={num_cases} must be a positive integer.\"\n",
    "\n",
    "    return [\n",
    "        generate_single_test_case(num, step) \n",
    "        for num, step in zip(\n",
    "            np.random.randint(min_num, max_num +1, num_cases),\n",
    "            np.random.randint(min_step, max_step + 1, num_cases)\n",
    "        )\n",
    "    ]"
   ]
  },
  {
   "cell_type": "code",
   "execution_count": 13,
   "id": "17e46967",
   "metadata": {
    "execution": {
     "iopub.execute_input": "2024-08-01T14:02:13.534443Z",
     "iopub.status.busy": "2024-08-01T14:02:13.533823Z",
     "iopub.status.idle": "2024-08-01T14:02:13.569029Z",
     "shell.execute_reply": "2024-08-01T14:02:13.567272Z"
    },
    "papermill": {
     "duration": 0.05202,
     "end_time": "2024-08-01T14:02:13.572706",
     "exception": false,
     "start_time": "2024-08-01T14:02:13.520686",
     "status": "completed"
    },
    "tags": []
   },
   "outputs": [],
   "source": [
    "# genetate 10k test cases\n",
    "test_cases = generate_test_cases(min_num=1,\n",
    "                                 max_num=100,\n",
    "                                 min_step=1,\n",
    "                                 max_step=5, \n",
    "                                 num_cases=10000)"
   ]
  },
  {
   "cell_type": "code",
   "execution_count": 14,
   "id": "c7763357",
   "metadata": {
    "execution": {
     "iopub.execute_input": "2024-08-01T14:02:13.603490Z",
     "iopub.status.busy": "2024-08-01T14:02:13.602175Z",
     "iopub.status.idle": "2024-08-01T14:02:13.616144Z",
     "shell.execute_reply": "2024-08-01T14:02:13.614955Z"
    },
    "papermill": {
     "duration": 0.033748,
     "end_time": "2024-08-01T14:02:13.619838",
     "exception": false,
     "start_time": "2024-08-01T14:02:13.586090",
     "status": "completed"
    },
    "tags": []
   },
   "outputs": [],
   "source": [
    "# group test cases by step size\n",
    "test_cases_by_step = {\n",
    "    step: [t_case for t_case in test_cases if t_case[1] == step]\n",
    "    for step in range(1, 6)\n",
    "}"
   ]
  },
  {
   "cell_type": "code",
   "execution_count": 15,
   "id": "4e170b88",
   "metadata": {
    "execution": {
     "iopub.execute_input": "2024-08-01T14:02:13.635516Z",
     "iopub.status.busy": "2024-08-01T14:02:13.635018Z",
     "iopub.status.idle": "2024-08-01T14:02:13.641409Z",
     "shell.execute_reply": "2024-08-01T14:02:13.640417Z"
    },
    "papermill": {
     "duration": 0.018848,
     "end_time": "2024-08-01T14:02:13.645339",
     "exception": false,
     "start_time": "2024-08-01T14:02:13.626491",
     "status": "completed"
    },
    "tags": []
   },
   "outputs": [
    {
     "name": "stdout",
     "output_type": "stream",
     "text": [
      "Step = 1: 2008 test cases\n",
      "Step = 2: 2036 test cases\n",
      "Step = 3: 1904 test cases\n",
      "Step = 4: 1986 test cases\n",
      "Step = 5: 2066 test cases\n"
     ]
    }
   ],
   "source": [
    "for step, t_cases in test_cases_by_step.items():\n",
    "    print(f\"Step = {step}: {len(t_cases)} test cases\")"
   ]
  },
  {
   "cell_type": "code",
   "execution_count": 16,
   "id": "2a1b0af3",
   "metadata": {
    "execution": {
     "iopub.execute_input": "2024-08-01T14:02:13.659882Z",
     "iopub.status.busy": "2024-08-01T14:02:13.659389Z",
     "iopub.status.idle": "2024-08-01T14:02:13.670270Z",
     "shell.execute_reply": "2024-08-01T14:02:13.668891Z"
    },
    "papermill": {
     "duration": 0.022701,
     "end_time": "2024-08-01T14:02:13.673687",
     "exception": false,
     "start_time": "2024-08-01T14:02:13.650986",
     "status": "completed"
    },
    "tags": []
   },
   "outputs": [],
   "source": [
    "# get a set of all numbers in test cases\n",
    "all_numbers = [\n",
    "    num\n",
    "    for t_case in test_cases\n",
    "    for num in t_case[2]\n",
    "]\n",
    "\n",
    "# add query numbers too\n",
    "all_numbers.extend([t_case[0] for t_case in test_cases])"
   ]
  },
  {
   "cell_type": "code",
   "execution_count": 17,
   "id": "6e5fe81f",
   "metadata": {
    "execution": {
     "iopub.execute_input": "2024-08-01T14:02:13.687364Z",
     "iopub.status.busy": "2024-08-01T14:02:13.686828Z",
     "iopub.status.idle": "2024-08-01T14:02:14.469205Z",
     "shell.execute_reply": "2024-08-01T14:02:14.466999Z"
    },
    "papermill": {
     "duration": 0.795006,
     "end_time": "2024-08-01T14:02:14.474811",
     "exception": false,
     "start_time": "2024-08-01T14:02:13.679805",
     "status": "completed"
    },
    "tags": []
   },
   "outputs": [],
   "source": [
    "unique_numbers = list(set(all_numbers))\n",
    "\n",
    "unique_numbers_embeddings = model.encode([str(i) for i in unique_numbers])"
   ]
  },
  {
   "cell_type": "code",
   "execution_count": 18,
   "id": "bd5a4653",
   "metadata": {
    "execution": {
     "iopub.execute_input": "2024-08-01T14:02:14.509393Z",
     "iopub.status.busy": "2024-08-01T14:02:14.508449Z",
     "iopub.status.idle": "2024-08-01T14:02:14.518690Z",
     "shell.execute_reply": "2024-08-01T14:02:14.516798Z"
    },
    "papermill": {
     "duration": 0.031821,
     "end_time": "2024-08-01T14:02:14.523073",
     "exception": false,
     "start_time": "2024-08-01T14:02:14.491252",
     "status": "completed"
    },
    "tags": []
   },
   "outputs": [],
   "source": [
    "num_to_embeddings = {\n",
    "    num: emb\n",
    "    for num, emb in zip(unique_numbers, unique_numbers_embeddings)\n",
    "}"
   ]
  },
  {
   "cell_type": "code",
   "execution_count": 19,
   "id": "fd643feb",
   "metadata": {
    "execution": {
     "iopub.execute_input": "2024-08-01T14:02:14.550797Z",
     "iopub.status.busy": "2024-08-01T14:02:14.550075Z",
     "iopub.status.idle": "2024-08-01T14:02:19.735787Z",
     "shell.execute_reply": "2024-08-01T14:02:19.734982Z"
    },
    "papermill": {
     "duration": 5.202626,
     "end_time": "2024-08-01T14:02:19.737644",
     "exception": false,
     "start_time": "2024-08-01T14:02:14.535018",
     "status": "completed"
    },
    "tags": []
   },
   "outputs": [
    {
     "data": {
      "application/vnd.jupyter.widget-view+json": {
       "model_id": "aa11bc12e08b46caba0c715c28d122d4",
       "version_major": 2,
       "version_minor": 0
      },
      "text/plain": [
       "  0%|          | 0/10000 [00:00<?, ?it/s]"
      ]
     },
     "metadata": {},
     "output_type": "display_data"
    }
   ],
   "source": [
    "n = 0\n",
    "debug = False\n",
    "\n",
    "step_to_tau_correlations = defaultdict(list)\n",
    "\n",
    "for k, t_case in tqdm(enumerate(test_cases), total=len(test_cases)):\n",
    "\n",
    "    query_num, step, candidates = t_case\n",
    "\n",
    "    # create a dictionary to map index to number\n",
    "    index_to_number = {i: num for i, num in enumerate(candidates)}\n",
    "\n",
    "    # get the embedding for the query number\n",
    "    query_num_emb = num_to_embeddings[query_num].reshape(1, -1)\n",
    "\n",
    "    # normalize the query number embedding\n",
    "    faiss.normalize_L2(query_num_emb)\n",
    "\n",
    "    # get the embeddings for the candidates\n",
    "    candidate_embs = np.array([num_to_embeddings[c] for c in candidates])\n",
    "\n",
    "    # get the dimensionality of the embeddings\n",
    "    d = candidate_embs.shape[1]\n",
    "\n",
    "    # create search index\n",
    "    # normalize embeddings\n",
    "    faiss.normalize_L2(candidate_embs)\n",
    "\n",
    "    # create an inner product index\n",
    "    DB_index = faiss.IndexFlatIP(d)\n",
    "\n",
    "    # Add normalized vectors to the index\n",
    "    DB_index.add(candidate_embs)\n",
    "\n",
    "    # Search\n",
    "    k = 10  # number of nearest neighbors to retrieve\n",
    "    embedding_similarities, indices = DB_index.search(query_num_emb, k)\n",
    "\n",
    "    # turn similarities into distances and round\n",
    "    embedding_distances_rounded = [\n",
    "        round(1 - d, 3) for d in embedding_similarities[0]\n",
    "    ]\n",
    "\n",
    "    # retrieve numbers from indices\n",
    "    ranked_candidates = [index_to_number[i] for i in indices[0]]\n",
    "\n",
    "    # calculate numerical distances (distance on the number line)\n",
    "    numerical_distances = [abs(query_num - c) for c in ranked_candidates]\n",
    "\n",
    "    # calculate Kendall's tau\n",
    "    kendall_tau, _ = stats.kendalltau(\n",
    "        numerical_distances, \n",
    "        embedding_distances_rounded\n",
    "    )\n",
    "\n",
    "    step_to_tau_correlations[step].append(kendall_tau)\n",
    "\n",
    "    if debug:\n",
    "\n",
    "        # print results\n",
    "        print(f\"Query Number: {query_num}\")\n",
    "        print(f\"Step: {step}\")\n",
    "        print(f\"Candidates: {candidates}\")\n",
    "        print(f\"    Ranked: {ranked_candidates}\")\n",
    "        print()\n",
    "        print(f\"Numerical Distances: {numerical_distances}\")\n",
    "        print(f\"Embedding Distances: {embedding_distances_rounded}\")\n",
    "\n",
    "        \n",
    "        print(f\"Kendall's Tau: {kendall_tau}\")\n",
    "        print()\n",
    "\n",
    "        if n == 10:\n",
    "            break\n",
    "\n",
    "        n += 1"
   ]
  },
  {
   "cell_type": "code",
   "execution_count": 20,
   "id": "c66684e5",
   "metadata": {
    "execution": {
     "iopub.execute_input": "2024-08-01T14:02:19.752221Z",
     "iopub.status.busy": "2024-08-01T14:02:19.751782Z",
     "iopub.status.idle": "2024-08-01T14:02:19.781931Z",
     "shell.execute_reply": "2024-08-01T14:02:19.780459Z"
    },
    "papermill": {
     "duration": 0.0416,
     "end_time": "2024-08-01T14:02:19.784775",
     "exception": false,
     "start_time": "2024-08-01T14:02:19.743175",
     "status": "completed"
    },
    "tags": []
   },
   "outputs": [
    {
     "data": {
      "text/html": [
       "<div>\n",
       "<style scoped>\n",
       "    .dataframe tbody tr th:only-of-type {\n",
       "        vertical-align: middle;\n",
       "    }\n",
       "\n",
       "    .dataframe tbody tr th {\n",
       "        vertical-align: top;\n",
       "    }\n",
       "\n",
       "    .dataframe thead th {\n",
       "        text-align: right;\n",
       "    }\n",
       "</style>\n",
       "<table border=\"1\" class=\"dataframe\">\n",
       "  <thead>\n",
       "    <tr style=\"text-align: right;\">\n",
       "      <th></th>\n",
       "      <th>step</th>\n",
       "      <th>mean_tau</th>\n",
       "      <th>std_tau</th>\n",
       "    </tr>\n",
       "  </thead>\n",
       "  <tbody>\n",
       "    <tr>\n",
       "      <th>1</th>\n",
       "      <td>1</td>\n",
       "      <td>0.499666</td>\n",
       "      <td>0.249559</td>\n",
       "    </tr>\n",
       "    <tr>\n",
       "      <th>2</th>\n",
       "      <td>2</td>\n",
       "      <td>0.529902</td>\n",
       "      <td>0.197258</td>\n",
       "    </tr>\n",
       "    <tr>\n",
       "      <th>3</th>\n",
       "      <td>3</td>\n",
       "      <td>0.533203</td>\n",
       "      <td>0.217533</td>\n",
       "    </tr>\n",
       "    <tr>\n",
       "      <th>4</th>\n",
       "      <td>4</td>\n",
       "      <td>0.542326</td>\n",
       "      <td>0.209744</td>\n",
       "    </tr>\n",
       "    <tr>\n",
       "      <th>5</th>\n",
       "      <td>5</td>\n",
       "      <td>0.564724</td>\n",
       "      <td>0.182023</td>\n",
       "    </tr>\n",
       "  </tbody>\n",
       "</table>\n",
       "</div>"
      ],
      "text/plain": [
       "   step  mean_tau   std_tau\n",
       "1     1  0.499666  0.249559\n",
       "2     2  0.529902  0.197258\n",
       "3     3  0.533203  0.217533\n",
       "4     4  0.542326  0.209744\n",
       "5     5  0.564724  0.182023"
      ]
     },
     "execution_count": 20,
     "metadata": {},
     "output_type": "execute_result"
    }
   ],
   "source": [
    "# get some statistics for each step size\n",
    "# generate some statistics in a dataframe \n",
    "step_statistics = {\n",
    "    \"step\": [],\n",
    "    \"mean_tau\": [],\n",
    "    \"std_tau\": []\n",
    "}\n",
    "\n",
    "for step, taus in step_to_tau_correlations.items():\n",
    "    step_statistics[\"step\"].append(step)\n",
    "    step_statistics[\"mean_tau\"].append(np.mean(taus))\n",
    "    step_statistics[\"std_tau\"].append(np.std(taus))\n",
    "\n",
    "step_statistics_df = pd.DataFrame(step_statistics, index=step_statistics[\"step\"])\n",
    "\n",
    "# show dataframe orderby step size\n",
    "step_statistics_df.sort_index()\n",
    "\n",
    "\n",
    "# for step in range(1, 6):\n",
    "#     taus = step_to_tau_correlations[step]\n",
    "#     print(f\"Step = {step}\")\n",
    "#     print(f\"    mean Kendall's Tau: {np.mean(taus):.3f}\")\n",
    "#     print(f\"  stddev Kendall's Tau: {np.std(taus):.3f}\")\n",
    "#     print()"
   ]
  },
  {
   "cell_type": "code",
   "execution_count": null,
   "id": "604dc772",
   "metadata": {
    "papermill": {
     "duration": 0.009797,
     "end_time": "2024-08-01T14:02:19.803950",
     "exception": false,
     "start_time": "2024-08-01T14:02:19.794153",
     "status": "completed"
    },
    "tags": []
   },
   "outputs": [],
   "source": []
  }
 ],
 "metadata": {
  "kernelspec": {
   "display_name": "embeddings",
   "language": "python",
   "name": "python3"
  },
  "language_info": {
   "codemirror_mode": {
    "name": "ipython",
    "version": 3
   },
   "file_extension": ".py",
   "mimetype": "text/x-python",
   "name": "python",
   "nbconvert_exporter": "python",
   "pygments_lexer": "ipython3",
   "version": "3.11.5"
  },
  "papermill": {
   "default_parameters": {},
   "duration": 20.006139,
   "end_time": "2024-08-01T14:02:22.017517",
   "environment_variables": {},
   "exception": null,
   "input_path": "compute_corr_stats.ipynb",
   "output_path": "compute_corr_stats_0.ipynb",
   "parameters": {
    "model_id": "sentence-transformers/all-MiniLM-L6-v2"
   },
   "start_time": "2024-08-01T14:02:02.011378",
   "version": "2.6.0"
  },
  "widgets": {
   "application/vnd.jupyter.widget-state+json": {
    "state": {
     "06c5894323d3448c8bf74954e0c8b02d": {
      "model_module": "@jupyter-widgets/base",
      "model_module_version": "2.0.0",
      "model_name": "LayoutModel",
      "state": {
       "_model_module": "@jupyter-widgets/base",
       "_model_module_version": "2.0.0",
       "_model_name": "LayoutModel",
       "_view_count": null,
       "_view_module": "@jupyter-widgets/base",
       "_view_module_version": "2.0.0",
       "_view_name": "LayoutView",
       "align_content": null,
       "align_items": null,
       "align_self": null,
       "border_bottom": null,
       "border_left": null,
       "border_right": null,
       "border_top": null,
       "bottom": null,
       "display": null,
       "flex": null,
       "flex_flow": null,
       "grid_area": null,
       "grid_auto_columns": null,
       "grid_auto_flow": null,
       "grid_auto_rows": null,
       "grid_column": null,
       "grid_gap": null,
       "grid_row": null,
       "grid_template_areas": null,
       "grid_template_columns": null,
       "grid_template_rows": null,
       "height": null,
       "justify_content": null,
       "justify_items": null,
       "left": null,
       "margin": null,
       "max_height": null,
       "max_width": null,
       "min_height": null,
       "min_width": null,
       "object_fit": null,
       "object_position": null,
       "order": null,
       "overflow": null,
       "padding": null,
       "right": null,
       "top": null,
       "visibility": null,
       "width": null
      }
     },
     "1ef133543f2d4cc8a35f18db5d9e8ec4": {
      "model_module": "@jupyter-widgets/controls",
      "model_module_version": "2.0.0",
      "model_name": "HTMLStyleModel",
      "state": {
       "_model_module": "@jupyter-widgets/controls",
       "_model_module_version": "2.0.0",
       "_model_name": "HTMLStyleModel",
       "_view_count": null,
       "_view_module": "@jupyter-widgets/base",
       "_view_module_version": "2.0.0",
       "_view_name": "StyleView",
       "background": null,
       "description_width": "",
       "font_size": null,
       "text_color": null
      }
     },
     "444cba993181405897b427633fd4aa65": {
      "model_module": "@jupyter-widgets/controls",
      "model_module_version": "2.0.0",
      "model_name": "FloatProgressModel",
      "state": {
       "_dom_classes": [],
       "_model_module": "@jupyter-widgets/controls",
       "_model_module_version": "2.0.0",
       "_model_name": "FloatProgressModel",
       "_view_count": null,
       "_view_module": "@jupyter-widgets/controls",
       "_view_module_version": "2.0.0",
       "_view_name": "ProgressView",
       "bar_style": "success",
       "description": "",
       "description_allow_html": false,
       "layout": "IPY_MODEL_c24111e7a2b845fca778617d13e0edf9",
       "max": 10000.0,
       "min": 0.0,
       "orientation": "horizontal",
       "style": "IPY_MODEL_65232c86ac5f4a8990c1182b6b13cbe0",
       "tabbable": null,
       "tooltip": null,
       "value": 10000.0
      }
     },
     "65232c86ac5f4a8990c1182b6b13cbe0": {
      "model_module": "@jupyter-widgets/controls",
      "model_module_version": "2.0.0",
      "model_name": "ProgressStyleModel",
      "state": {
       "_model_module": "@jupyter-widgets/controls",
       "_model_module_version": "2.0.0",
       "_model_name": "ProgressStyleModel",
       "_view_count": null,
       "_view_module": "@jupyter-widgets/base",
       "_view_module_version": "2.0.0",
       "_view_name": "StyleView",
       "bar_color": null,
       "description_width": ""
      }
     },
     "673a79c1b7f64ccc9875f986e99f24cb": {
      "model_module": "@jupyter-widgets/controls",
      "model_module_version": "2.0.0",
      "model_name": "HTMLModel",
      "state": {
       "_dom_classes": [],
       "_model_module": "@jupyter-widgets/controls",
       "_model_module_version": "2.0.0",
       "_model_name": "HTMLModel",
       "_view_count": null,
       "_view_module": "@jupyter-widgets/controls",
       "_view_module_version": "2.0.0",
       "_view_name": "HTMLView",
       "description": "",
       "description_allow_html": false,
       "layout": "IPY_MODEL_c7aa11fb39ab4a86a6d34b1fde309baa",
       "placeholder": "​",
       "style": "IPY_MODEL_1ef133543f2d4cc8a35f18db5d9e8ec4",
       "tabbable": null,
       "tooltip": null,
       "value": " 10000/10000 [00:05&lt;00:00, 2230.18it/s]"
      }
     },
     "867dd6ee4572444dae6c9e8a945d34ea": {
      "model_module": "@jupyter-widgets/base",
      "model_module_version": "2.0.0",
      "model_name": "LayoutModel",
      "state": {
       "_model_module": "@jupyter-widgets/base",
       "_model_module_version": "2.0.0",
       "_model_name": "LayoutModel",
       "_view_count": null,
       "_view_module": "@jupyter-widgets/base",
       "_view_module_version": "2.0.0",
       "_view_name": "LayoutView",
       "align_content": null,
       "align_items": null,
       "align_self": null,
       "border_bottom": null,
       "border_left": null,
       "border_right": null,
       "border_top": null,
       "bottom": null,
       "display": null,
       "flex": null,
       "flex_flow": null,
       "grid_area": null,
       "grid_auto_columns": null,
       "grid_auto_flow": null,
       "grid_auto_rows": null,
       "grid_column": null,
       "grid_gap": null,
       "grid_row": null,
       "grid_template_areas": null,
       "grid_template_columns": null,
       "grid_template_rows": null,
       "height": null,
       "justify_content": null,
       "justify_items": null,
       "left": null,
       "margin": null,
       "max_height": null,
       "max_width": null,
       "min_height": null,
       "min_width": null,
       "object_fit": null,
       "object_position": null,
       "order": null,
       "overflow": null,
       "padding": null,
       "right": null,
       "top": null,
       "visibility": null,
       "width": null
      }
     },
     "aa11bc12e08b46caba0c715c28d122d4": {
      "model_module": "@jupyter-widgets/controls",
      "model_module_version": "2.0.0",
      "model_name": "HBoxModel",
      "state": {
       "_dom_classes": [],
       "_model_module": "@jupyter-widgets/controls",
       "_model_module_version": "2.0.0",
       "_model_name": "HBoxModel",
       "_view_count": null,
       "_view_module": "@jupyter-widgets/controls",
       "_view_module_version": "2.0.0",
       "_view_name": "HBoxView",
       "box_style": "",
       "children": [
        "IPY_MODEL_cdbc605adf3d40148324724994662f49",
        "IPY_MODEL_444cba993181405897b427633fd4aa65",
        "IPY_MODEL_673a79c1b7f64ccc9875f986e99f24cb"
       ],
       "layout": "IPY_MODEL_06c5894323d3448c8bf74954e0c8b02d",
       "tabbable": null,
       "tooltip": null
      }
     },
     "c24111e7a2b845fca778617d13e0edf9": {
      "model_module": "@jupyter-widgets/base",
      "model_module_version": "2.0.0",
      "model_name": "LayoutModel",
      "state": {
       "_model_module": "@jupyter-widgets/base",
       "_model_module_version": "2.0.0",
       "_model_name": "LayoutModel",
       "_view_count": null,
       "_view_module": "@jupyter-widgets/base",
       "_view_module_version": "2.0.0",
       "_view_name": "LayoutView",
       "align_content": null,
       "align_items": null,
       "align_self": null,
       "border_bottom": null,
       "border_left": null,
       "border_right": null,
       "border_top": null,
       "bottom": null,
       "display": null,
       "flex": null,
       "flex_flow": null,
       "grid_area": null,
       "grid_auto_columns": null,
       "grid_auto_flow": null,
       "grid_auto_rows": null,
       "grid_column": null,
       "grid_gap": null,
       "grid_row": null,
       "grid_template_areas": null,
       "grid_template_columns": null,
       "grid_template_rows": null,
       "height": null,
       "justify_content": null,
       "justify_items": null,
       "left": null,
       "margin": null,
       "max_height": null,
       "max_width": null,
       "min_height": null,
       "min_width": null,
       "object_fit": null,
       "object_position": null,
       "order": null,
       "overflow": null,
       "padding": null,
       "right": null,
       "top": null,
       "visibility": null,
       "width": null
      }
     },
     "c7aa11fb39ab4a86a6d34b1fde309baa": {
      "model_module": "@jupyter-widgets/base",
      "model_module_version": "2.0.0",
      "model_name": "LayoutModel",
      "state": {
       "_model_module": "@jupyter-widgets/base",
       "_model_module_version": "2.0.0",
       "_model_name": "LayoutModel",
       "_view_count": null,
       "_view_module": "@jupyter-widgets/base",
       "_view_module_version": "2.0.0",
       "_view_name": "LayoutView",
       "align_content": null,
       "align_items": null,
       "align_self": null,
       "border_bottom": null,
       "border_left": null,
       "border_right": null,
       "border_top": null,
       "bottom": null,
       "display": null,
       "flex": null,
       "flex_flow": null,
       "grid_area": null,
       "grid_auto_columns": null,
       "grid_auto_flow": null,
       "grid_auto_rows": null,
       "grid_column": null,
       "grid_gap": null,
       "grid_row": null,
       "grid_template_areas": null,
       "grid_template_columns": null,
       "grid_template_rows": null,
       "height": null,
       "justify_content": null,
       "justify_items": null,
       "left": null,
       "margin": null,
       "max_height": null,
       "max_width": null,
       "min_height": null,
       "min_width": null,
       "object_fit": null,
       "object_position": null,
       "order": null,
       "overflow": null,
       "padding": null,
       "right": null,
       "top": null,
       "visibility": null,
       "width": null
      }
     },
     "cdbc605adf3d40148324724994662f49": {
      "model_module": "@jupyter-widgets/controls",
      "model_module_version": "2.0.0",
      "model_name": "HTMLModel",
      "state": {
       "_dom_classes": [],
       "_model_module": "@jupyter-widgets/controls",
       "_model_module_version": "2.0.0",
       "_model_name": "HTMLModel",
       "_view_count": null,
       "_view_module": "@jupyter-widgets/controls",
       "_view_module_version": "2.0.0",
       "_view_name": "HTMLView",
       "description": "",
       "description_allow_html": false,
       "layout": "IPY_MODEL_867dd6ee4572444dae6c9e8a945d34ea",
       "placeholder": "​",
       "style": "IPY_MODEL_d76ac8701cba45278a249bba53b1c961",
       "tabbable": null,
       "tooltip": null,
       "value": "100%"
      }
     },
     "d76ac8701cba45278a249bba53b1c961": {
      "model_module": "@jupyter-widgets/controls",
      "model_module_version": "2.0.0",
      "model_name": "HTMLStyleModel",
      "state": {
       "_model_module": "@jupyter-widgets/controls",
       "_model_module_version": "2.0.0",
       "_model_name": "HTMLStyleModel",
       "_view_count": null,
       "_view_module": "@jupyter-widgets/base",
       "_view_module_version": "2.0.0",
       "_view_name": "StyleView",
       "background": null,
       "description_width": "",
       "font_size": null,
       "text_color": null
      }
     }
    },
    "version_major": 2,
    "version_minor": 0
   }
  }
 },
 "nbformat": 4,
 "nbformat_minor": 5
}