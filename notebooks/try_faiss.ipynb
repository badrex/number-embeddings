{
 "cells": [
  {
   "cell_type": "code",
   "execution_count": 1,
   "metadata": {},
   "outputs": [],
   "source": [
    "import numpy as np\n",
    "import pandas as pd\n",
    "import matplotlib.pyplot as plt\n",
    "import seaborn as sns\n",
    "from collections import defaultdict, Counter"
   ]
  },
  {
   "cell_type": "code",
   "execution_count": 46,
   "metadata": {},
   "outputs": [],
   "source": [
    "from typing import List, Dict, Any, Tuple"
   ]
  },
  {
   "cell_type": "code",
   "execution_count": 2,
   "metadata": {},
   "outputs": [],
   "source": [
    "from tqdm.notebook import tqdm, trange"
   ]
  },
  {
   "cell_type": "code",
   "execution_count": 144,
   "metadata": {},
   "outputs": [],
   "source": [
    "from scipy import stats"
   ]
  },
  {
   "cell_type": "code",
   "execution_count": 128,
   "metadata": {},
   "outputs": [],
   "source": [
    "import faiss \n",
    "\n",
    "from sentence_transformers import SentenceTransformer\n",
    "#from sentence_transformers.quantization import quantize_embeddings\n",
    "\n",
    "# load an embedding model\n",
    "#model = SentenceTransformer(\"mixedbread-ai/mxbai-embed-large-v1\")\n",
    "model = SentenceTransformer(\"sentence-transformers/all-MiniLM-L6-v2\")"
   ]
  },
  {
   "cell_type": "code",
   "execution_count": 91,
   "metadata": {},
   "outputs": [],
   "source": [
    "def generate_single_test_case(num: int,\n",
    "                              step: int = 1) -> Tuple[int, int, List[int]]:\n",
    "    \"\"\"\n",
    "    Given a query number (int) and step size (int), generate a test case.\n",
    "    Return the query number (int), step size (int), \n",
    "    and a candidate list of integers (list).\n",
    "    \"\"\"\n",
    "    # make sure the step size is positive\n",
    "    assert step > 0, f\"step={step} is not valid!  Step size must be positive.\"\n",
    "    \n",
    "    start = num + step\n",
    "    end = num + (11 * step)\n",
    "    return (num, step, list(range(start, end, step)))"
   ]
  },
  {
   "cell_type": "code",
   "execution_count": 92,
   "metadata": {},
   "outputs": [
    {
     "data": {
      "text/plain": [
       "(10, 2, [12, 14, 16, 18, 20, 22, 24, 26, 28, 30])"
      ]
     },
     "execution_count": 92,
     "metadata": {},
     "output_type": "execute_result"
    }
   ],
   "source": [
    "generate_single_test_case(10, 2)"
   ]
  },
  {
   "cell_type": "code",
   "execution_count": 93,
   "metadata": {},
   "outputs": [],
   "source": [
    "# Test case 1\n",
    "num = 5\n",
    "step = 2\n",
    "expected_result = (5, 2, [7, 9, 11, 13, 15, 17, 19, 21, 23, 25])\n",
    "assert generate_single_test_case(num, step) == expected_result\n",
    "\n",
    "# Test case 2\n",
    "num = 10\n",
    "step = 3\n",
    "expected_result = (10, 3, [13, 16, 19, 22, 25, 28, 31, 34, 37, 40])\n",
    "assert generate_single_test_case(num, step) == expected_result\n",
    "\n",
    "# Test case 3\n",
    "num = 0\n",
    "step = 5\n",
    "expected_result = (0, 5, [5, 10, 15, 20, 25, 30, 35, 40, 45, 50])\n",
    "assert generate_single_test_case(num, step) == expected_result\n",
    "\n",
    "# Test case 4\n",
    "num = -3\n",
    "step = 1\n",
    "expected_result = (-3, 1, [-2, -1, 0, 1, 2, 3, 4, 5, 6, 7])\n",
    "assert generate_single_test_case(num, step) == expected_result\n",
    "\n",
    "# Test case 5\n",
    "num = 1000\n",
    "step = 25\n",
    "expected_result = (1000, 25, [1025, 1050, 1075, 1100, 1125, 1150, 1175, 1200, 1225, 1250])\n",
    "assert generate_single_test_case(num, step) == expected_result"
   ]
  },
  {
   "cell_type": "code",
   "execution_count": 108,
   "metadata": {},
   "outputs": [],
   "source": [
    "def generate_test_cases(min_num: int, \n",
    "                        max_num: int,\n",
    "                        min_step: int,\n",
    "                        max_step: int,\n",
    "                        num_cases: int) -> List[Tuple[int, List[int]]]:\n",
    "    \"\"\"\n",
    "    Generate test cases for the given parameters.\n",
    "    Return a list of test cases.\n",
    "    \"\"\"\n",
    "    # make sure the input parameters are valid\n",
    "    assert min_num < max_num, f\"min_num={min_num} must be less than max_num={max_num}\"\n",
    "    assert min_step < max_step, f\"min_step={min_step} must be less than max_step={max_step}\"\n",
    "    assert num_cases > 0, f\"num_cases={num_cases} must be a positive integer.\"\n",
    "\n",
    "    return [\n",
    "        generate_single_test_case(num, step) \n",
    "        for num, step in zip(\n",
    "            np.random.randint(min_num, max_num +1, num_cases),\n",
    "            np.random.randint(min_step, max_step + 1, num_cases)\n",
    "        )\n",
    "    ]"
   ]
  },
  {
   "cell_type": "code",
   "execution_count": 177,
   "metadata": {},
   "outputs": [],
   "source": [
    "# genetate 10k test cases\n",
    "test_cases = generate_test_cases(min_num=1,\n",
    "                                 max_num=100,\n",
    "                                 min_step=1,\n",
    "                                 max_step=5, \n",
    "                                 num_cases=100000)"
   ]
  },
  {
   "cell_type": "code",
   "execution_count": 178,
   "metadata": {},
   "outputs": [],
   "source": [
    "# group test cases by step size\n",
    "test_cases_by_step = {\n",
    "    step: [t_case for t_case in test_cases if t_case[1] == step]\n",
    "    for step in range(1, 6)\n",
    "}"
   ]
  },
  {
   "cell_type": "code",
   "execution_count": 179,
   "metadata": {},
   "outputs": [
    {
     "name": "stdout",
     "output_type": "stream",
     "text": [
      "Step = 1: 19802 test cases\n",
      "Step = 2: 20335 test cases\n",
      "Step = 3: 20062 test cases\n",
      "Step = 4: 19611 test cases\n",
      "Step = 5: 20190 test cases\n"
     ]
    }
   ],
   "source": [
    "for step, t_cases in test_cases_by_step.items():\n",
    "    print(f\"Step = {step}: {len(t_cases)} test cases\")"
   ]
  },
  {
   "cell_type": "code",
   "execution_count": 180,
   "metadata": {},
   "outputs": [],
   "source": [
    "# get a set of all numbers in test cases\n",
    "all_numbers = [\n",
    "    num\n",
    "    for t_case in test_cases\n",
    "    for num in t_case[2]\n",
    "]\n",
    "\n",
    "# add query numbers too\n",
    "all_numbers.extend([t_case[0] for t_case in test_cases])"
   ]
  },
  {
   "cell_type": "code",
   "execution_count": 181,
   "metadata": {},
   "outputs": [],
   "source": [
    "unique_numbers = list(set(all_numbers))\n",
    "\n",
    "unique_numbers_embeddings = model.encode([str(i) for i in unique_numbers])"
   ]
  },
  {
   "cell_type": "code",
   "execution_count": 182,
   "metadata": {},
   "outputs": [],
   "source": [
    "num_to_embeddings = {\n",
    "    num: emb\n",
    "    for num, emb in zip(unique_numbers, unique_numbers_embeddings)\n",
    "}"
   ]
  },
  {
   "cell_type": "code",
   "execution_count": 183,
   "metadata": {},
   "outputs": [],
   "source": [
    "n = 0\n",
    "debug = False\n",
    "\n",
    "step_to_tau_correlations = defaultdict(list)\n",
    "\n",
    "for k, t_case in enumerate(test_cases):\n",
    "\n",
    "    query_num, step, candidates = t_case\n",
    "\n",
    "    # create a dictionary to map index to number\n",
    "    index_to_number = {i: num for i, num in enumerate(candidates)}\n",
    "\n",
    "    # get the embedding for the query number\n",
    "    query_num_emb = num_to_embeddings[query_num].reshape(1, -1)\n",
    "\n",
    "    # normalize the query number embedding\n",
    "    faiss.normalize_L2(query_num_emb)\n",
    "\n",
    "    # get the embeddings for the candidates\n",
    "    candidate_embs = np.array([num_to_embeddings[c] for c in candidates])\n",
    "\n",
    "    # get the dimensionality of the embeddings\n",
    "    d = candidate_embs.shape[1]\n",
    "\n",
    "    # create search index\n",
    "    # normalize embeddings\n",
    "    faiss.normalize_L2(candidate_embs)\n",
    "\n",
    "    # create an inner product index\n",
    "    DB_index = faiss.IndexFlatIP(d)\n",
    "\n",
    "    # Add normalized vectors to the index\n",
    "    DB_index.add(candidate_embs)\n",
    "\n",
    "    # Search\n",
    "    k = 10  # number of nearest neighbors to retrieve\n",
    "    embedding_similarities, indices = DB_index.search(query_num_emb, k)\n",
    "\n",
    "    # turn similarities into distances and round\n",
    "    embedding_distances_rounded = [\n",
    "        round(1 - d, 3) for d in embedding_similarities[0]\n",
    "    ]\n",
    "\n",
    "    # retrieve numbers from indices\n",
    "    ranked_candidates = [index_to_number[i] for i in indices[0]]\n",
    "\n",
    "    # calculate numerical distances (distance on the number line)\n",
    "    numerical_distances = [abs(query_num - c) for c in ranked_candidates]\n",
    "\n",
    "    # calculate Kendall's tau\n",
    "    kendall_tau, _ = stats.kendalltau(\n",
    "        numerical_distances, \n",
    "        embedding_distances_rounded\n",
    "    )\n",
    "\n",
    "    step_to_tau_correlations[step].append(kendall_tau)\n",
    "\n",
    "    if debug:\n",
    "\n",
    "        # print results\n",
    "        print(f\"Query Number: {query_num}\")\n",
    "        print(f\"Step: {step}\")\n",
    "        print(f\"Candidates: {candidates}\")\n",
    "        print(f\"    Ranked: {ranked_candidates}\")\n",
    "        print()\n",
    "        print(f\"Numerical Distances: {numerical_distances}\")\n",
    "        print(f\"Embedding Distances: {embedding_distances_rounded}\")\n",
    "\n",
    "        \n",
    "        print(f\"Kendall's Tau: {kendall_tau}\")\n",
    "        print()\n",
    "\n",
    "        if n == 10:\n",
    "            break\n",
    "\n",
    "        n += 1"
   ]
  },
  {
   "cell_type": "code",
   "execution_count": 195,
   "metadata": {},
   "outputs": [
    {
     "data": {
      "text/html": [
       "<div>\n",
       "<style scoped>\n",
       "    .dataframe tbody tr th:only-of-type {\n",
       "        vertical-align: middle;\n",
       "    }\n",
       "\n",
       "    .dataframe tbody tr th {\n",
       "        vertical-align: top;\n",
       "    }\n",
       "\n",
       "    .dataframe thead th {\n",
       "        text-align: right;\n",
       "    }\n",
       "</style>\n",
       "<table border=\"1\" class=\"dataframe\">\n",
       "  <thead>\n",
       "    <tr style=\"text-align: right;\">\n",
       "      <th></th>\n",
       "      <th>step</th>\n",
       "      <th>mean_tau</th>\n",
       "      <th>std_tau</th>\n",
       "    </tr>\n",
       "  </thead>\n",
       "  <tbody>\n",
       "    <tr>\n",
       "      <th>1</th>\n",
       "      <td>1</td>\n",
       "      <td>0.490675</td>\n",
       "      <td>0.248898</td>\n",
       "    </tr>\n",
       "    <tr>\n",
       "      <th>2</th>\n",
       "      <td>2</td>\n",
       "      <td>0.534345</td>\n",
       "      <td>0.193705</td>\n",
       "    </tr>\n",
       "    <tr>\n",
       "      <th>3</th>\n",
       "      <td>3</td>\n",
       "      <td>0.532467</td>\n",
       "      <td>0.221328</td>\n",
       "    </tr>\n",
       "    <tr>\n",
       "      <th>4</th>\n",
       "      <td>4</td>\n",
       "      <td>0.539627</td>\n",
       "      <td>0.215072</td>\n",
       "    </tr>\n",
       "    <tr>\n",
       "      <th>5</th>\n",
       "      <td>5</td>\n",
       "      <td>0.564349</td>\n",
       "      <td>0.184480</td>\n",
       "    </tr>\n",
       "  </tbody>\n",
       "</table>\n",
       "</div>"
      ],
      "text/plain": [
       "   step  mean_tau   std_tau\n",
       "1     1  0.490675  0.248898\n",
       "2     2  0.534345  0.193705\n",
       "3     3  0.532467  0.221328\n",
       "4     4  0.539627  0.215072\n",
       "5     5  0.564349  0.184480"
      ]
     },
     "execution_count": 195,
     "metadata": {},
     "output_type": "execute_result"
    }
   ],
   "source": [
    "# get some statistics for each step size\n",
    "# generate some statistics in a dataframe \n",
    "step_statistics = {\n",
    "    \"step\": [],\n",
    "    \"mean_tau\": [],\n",
    "    \"std_tau\": []\n",
    "}\n",
    "\n",
    "for step, taus in step_to_tau_correlations.items():\n",
    "    step_statistics[\"step\"].append(step)\n",
    "    step_statistics[\"mean_tau\"].append(np.mean(taus))\n",
    "    step_statistics[\"std_tau\"].append(np.std(taus))\n",
    "\n",
    "step_statistics_df = pd.DataFrame(step_statistics, index=step_statistics[\"step\"])\n",
    "\n",
    "# show dataframe orderby step size\n",
    "step_statistics_df.sort_index()\n",
    "\n",
    "\n",
    "# for step in range(1, 6):\n",
    "#     taus = step_to_tau_correlations[step]\n",
    "#     print(f\"Step = {step}\")\n",
    "#     print(f\"    mean Kendall's Tau: {np.mean(taus):.3f}\")\n",
    "#     print(f\"  stddev Kendall's Tau: {np.std(taus):.3f}\")\n",
    "#     print()"
   ]
  },
  {
   "cell_type": "code",
   "execution_count": null,
   "metadata": {},
   "outputs": [],
   "source": []
  }
 ],
 "metadata": {
  "kernelspec": {
   "display_name": "embeddings",
   "language": "python",
   "name": "python3"
  },
  "language_info": {
   "codemirror_mode": {
    "name": "ipython",
    "version": 3
   },
   "file_extension": ".py",
   "mimetype": "text/x-python",
   "name": "python",
   "nbconvert_exporter": "python",
   "pygments_lexer": "ipython3",
   "version": "3.11.5"
  }
 },
 "nbformat": 4,
 "nbformat_minor": 2
}
